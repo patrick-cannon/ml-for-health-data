{
  "nbformat": 4,
  "nbformat_minor": 0,
  "metadata": {
    "colab": {
      "provenance": [],
      "authorship_tag": "ABX9TyNe/XW2NDS4zXYspRBckHKI",
      "include_colab_link": true
    },
    "kernelspec": {
      "name": "python3",
      "display_name": "Python 3"
    },
    "language_info": {
      "name": "python"
    }
  },
  "cells": [
    {
      "cell_type": "markdown",
      "metadata": {
        "id": "view-in-github",
        "colab_type": "text"
      },
      "source": [
        "<a href=\"https://colab.research.google.com/github/patrick-cannon/ml-for-health-data/blob/main/Assignment_02_Patrick_Cannon.ipynb\" target=\"_parent\"><img src=\"https://colab.research.google.com/assets/colab-badge.svg\" alt=\"Open In Colab\"/></a>"
      ]
    },
    {
      "cell_type": "markdown",
      "source": [
        "###1. Assign a = 10 and b = 20. Print the result for (a + b)2 / (a - b)."
      ],
      "metadata": {
        "id": "gSMGAjLSqnYg"
      }
    },
    {
      "cell_type": "code",
      "execution_count": null,
      "metadata": {
        "id": "SnUcTh9bqW9d"
      },
      "outputs": [],
      "source": [
        "# assign a = 10 and b = 20 and print formula\n",
        "a = 10\n",
        "b = 20\n",
        "\n",
        "print((a + b) ** 2 / (a - b))"
      ]
    },
    {
      "cell_type": "markdown",
      "source": [
        "### 2. Implement the following tasks concerning a string variable."
      ],
      "metadata": {
        "id": "sHUWvsqsrFas"
      }
    },
    {
      "cell_type": "code",
      "source": [
        "# (1) define original string\n",
        "s = \"What you are you do not see, what you see is your shadow.\"\n",
        "\n",
        "# (2) find number of characters in s\n",
        "len(s)"
      ],
      "metadata": {
        "id": "wT-j4nBdrQii"
      },
      "execution_count": null,
      "outputs": []
    },
    {
      "cell_type": "code",
      "source": [
        "# (3) test if s starts with \"What\"\n",
        "s.startswith(\"What\")\n",
        "\n",
        "# (4) test if s ends with \"shadow\"\n",
        "s.endswith(\"shadow.\")"
      ],
      "metadata": {
        "id": "UYwyIyanrqy3"
      },
      "execution_count": null,
      "outputs": []
    },
    {
      "cell_type": "code",
      "source": [
        "# (5) find substring \"see\" in s\n",
        "s.find(\"see\")"
      ],
      "metadata": {
        "id": "IVlup0QUsB7e"
      },
      "execution_count": null,
      "outputs": []
    },
    {
      "cell_type": "code",
      "source": [
        "# (6) based on s, return a new string with all occurrences of \"you\"\n",
        "# replaced with \"I\", \"your\" replaced with \"my\", and \"are\" replaced with \"am\"\n",
        "s.replace(\"are\", \"am\").replace(\"your\", \"my\").replace(\"you\", \"I\")"
      ],
      "metadata": {
        "id": "djCczz1Nsafc"
      },
      "execution_count": null,
      "outputs": []
    },
    {
      "cell_type": "code",
      "source": [
        "# (7) Split s into a list of strings by white space.\n",
        "s.split(' ')"
      ],
      "metadata": {
        "id": "SnsOXsATu3dz"
      },
      "execution_count": null,
      "outputs": []
    },
    {
      "cell_type": "code",
      "source": [
        "# (8) Turn s to all upper case.\n",
        "print(s.upper())\n",
        "\n",
        "# (9) Turn s to all lower case.\n",
        "print(s.lower())\n",
        "\n",
        "# (10) Count the number of character 'y' in s.\n",
        "s.count('y')\n",
        "\n",
        "# (11) Remove any leading (at the beginning)\n",
        "# and trailing (at the end) white space in s.\n",
        "s.strip()"
      ],
      "metadata": {
        "id": "tXSMReiJvI2O"
      },
      "execution_count": null,
      "outputs": []
    },
    {
      "cell_type": "markdown",
      "source": [
        "### 3. Implement the following tasks concerning numeric types."
      ],
      "metadata": {
        "id": "_FCrmO8swLsH"
      }
    },
    {
      "cell_type": "code",
      "source": [
        "# (1) Convert string \"-100\" to integer 100 and assign the result to i.\n",
        "i = int(\"-100\")\n",
        "i"
      ],
      "metadata": {
        "id": "9mz5eS4CwNS6"
      },
      "execution_count": null,
      "outputs": []
    },
    {
      "cell_type": "code",
      "source": [
        "# (2) Convert string \"3.25\" to float value 3.25 and assign the result to f.\n",
        "f = float(\"3.25\")\n",
        "f"
      ],
      "metadata": {
        "id": "oHchJoBswbfy"
      },
      "execution_count": null,
      "outputs": []
    },
    {
      "cell_type": "markdown",
      "source": [
        "### 4. Implement the following tasks concerning list:"
      ],
      "metadata": {
        "id": "1H1h7cjMwjtD"
      }
    },
    {
      "cell_type": "code",
      "source": [
        "# (1) Reverse the list: l = [-1, 2, 3, 5, 10] so that l = [10, 5, 3, 2, -1].\n",
        "l = [-1, 2, 3, 5, 10]\n",
        "l.reverse()\n",
        "l"
      ],
      "metadata": {
        "id": "y298Lw-dwlF-"
      },
      "execution_count": null,
      "outputs": []
    },
    {
      "cell_type": "code",
      "source": [
        "# (2) Given a list of numbers: l = [-2, 4, 5, 9, -100].\n",
        "# Turn every item of a list into its square.\n",
        "l = [-2, 4, 5, 9, -100]\n",
        "l_new = [i ** 2 for i in l]\n",
        "l_new"
      ],
      "metadata": {
        "id": "WAhODvUwxAUz"
      },
      "execution_count": null,
      "outputs": []
    },
    {
      "cell_type": "code",
      "source": [
        "# (3) l = [1, 2, [-300, -100, [1000, 200], 400], 3, -40].\n",
        "# Use append() to add -5000 to the list so that:\n",
        "# l = [1, 2, [-300, -100, [1000, 200, -5000], 400], 3, -40].\n",
        "l = [1, 2, [-300, -100, [1000, 200], 400], 3, -40]\n",
        "l[2][2].append(-5000)\n",
        "l"
      ],
      "metadata": {
        "id": "yb73z-mfxvGB"
      },
      "execution_count": null,
      "outputs": []
    },
    {
      "cell_type": "code",
      "source": [
        "# (4) l = [\"To\", \"be\", \"or\", \"not\", \"to\", \"be\"].\n",
        "# Use join() to convert the list to a string \"To be or not to be\".\n",
        "l = [\"To\", \"be\", \"or\", \"not\", \"to\", \"be\"]\n",
        "' '.join(l)"
      ],
      "metadata": {
        "id": "y-6AupyM73SK"
      },
      "execution_count": null,
      "outputs": []
    },
    {
      "cell_type": "code",
      "source": [
        "# (5) number_list = [1, 2, 3], str_list = ['one', 'two', 'three'].\n",
        "# Use zip() to create a list: [(1, 'one'), (2, 'two'), (3, 'three')].\n",
        "number_list = [1, 2, 3]\n",
        "str_list = ['one', 'two', 'three']\n",
        "zip_list = zip(number_list, str_list)\n",
        "list(zip_list)"
      ],
      "metadata": {
        "id": "Q97e4xP58U-z"
      },
      "execution_count": null,
      "outputs": []
    },
    {
      "cell_type": "code",
      "source": [
        "# (6) use list comprehension and range()\n",
        "# to create the list: [0, 2, 4, 6, 8, 10, 12, 14, 16, 18]\n",
        "l = list(range(10))\n",
        "l = [2 * i for i in l]\n",
        "l\n"
      ],
      "metadata": {
        "id": "0Z0YrgPT9B7H"
      },
      "execution_count": null,
      "outputs": []
    },
    {
      "cell_type": "markdown",
      "source": [
        "### 5. Implement the following tasks concerning dictionary:"
      ],
      "metadata": {
        "id": "EELVoJ5I-vPV"
      }
    },
    {
      "cell_type": "code",
      "source": [
        "# (1) Write a Python script to print a dictionary where the keys are numbers\n",
        "# between 1 and 10 (both included) and the values are the squares of keys.\n",
        "# (Hint: use a for loop that loops through an initially empty dictionary).\n",
        "d = {}\n",
        "for i in range(1, 11): # create value and add to key at d[key]\n",
        "  x = i ** 2\n",
        "  d[i] = x\n",
        "\n",
        "print(d)"
      ],
      "metadata": {
        "id": "EdWbtGH8-xDD"
      },
      "execution_count": null,
      "outputs": []
    },
    {
      "cell_type": "code",
      "source": [
        "# (2) Convert the two lists into a dictionary:\n",
        "# keys = ['One', 'Two', 'Three'], values = [1, 2, 3].\n",
        "keys = ['One', 'Two', 'Three']\n",
        "values = [1, 2, 3]\n",
        "\n",
        "d = {keys[i]: values[i] for i in range(len(keys))}\n",
        "print(d)"
      ],
      "metadata": {
        "id": "swMlVN8MEHsc"
      },
      "execution_count": null,
      "outputs": []
    },
    {
      "cell_type": "markdown",
      "source": [
        "### 6. Write a Python function to sum up all the numbers in a list."
      ],
      "metadata": {
        "id": "GWrELYf7FfkV"
      }
    },
    {
      "cell_type": "code",
      "source": [
        "# initialize list\n",
        "l = [0, 2, 4, 6, 8, 10, 12, 14, 16, 18, 20]\n",
        "def listSum(list):\n",
        "  result = sum(list)\n",
        "  return result\n",
        "\n",
        "print(listSum(l))"
      ],
      "metadata": {
        "id": "XyWB4-ZgFgt2"
      },
      "execution_count": null,
      "outputs": []
    },
    {
      "cell_type": "markdown",
      "source": [
        "### 7. Write a Python function that accepts a string and calculates the number of upper case letters and lower case letters. For example, a sample string could be: 'To be or not to be'. The expected outputs are: Number of upper case characters: 1; Number of lower case characters: 12."
      ],
      "metadata": {
        "id": "7GD9dhj9GelT"
      }
    },
    {
      "cell_type": "code",
      "source": [
        "def upper_or_lower(string):\n",
        "  ucount = 0\n",
        "  lcount = 0\n",
        "\n",
        "  for i in string:\n",
        "    if i.isupper():\n",
        "      ucount += 1\n",
        "    elif i.islower():\n",
        "      lcount += 1\n",
        "  return 'Number of upper case characters: {}; Number of lowercase characters: {}'.format(ucount, lcount)\n",
        "\n",
        "test = upper_or_lower('To be or not to be')\n",
        "print(test)"
      ],
      "metadata": {
        "id": "aDSadn1pGiF8"
      },
      "execution_count": null,
      "outputs": []
    },
    {
      "cell_type": "markdown",
      "source": [
        "### 8. Suppose the passing grade of a subject is 60. Take input of a grade from the user. If the grade is greater than or equal to the passing grade, print 'Congratulations! You have passed the course.' Otherwise, print 'Sorry, you did not pass the course.' (Hint: look for the input() function and if/else statement.)"
      ],
      "metadata": {
        "id": "RPoXBIuGLe9Q"
      }
    },
    {
      "cell_type": "code",
      "source": [
        "score = int(input())\n",
        "if score >= 60:\n",
        "  print('Congratulations! You have passed the course.')\n",
        "else:\n",
        "  print('Sorry, you did not pass the course.')"
      ],
      "metadata": {
        "id": "oRWvM8O2LiTL"
      },
      "execution_count": null,
      "outputs": []
    },
    {
      "cell_type": "markdown",
      "source": [
        "### 9. Write a Python program to find those numbers divisible by both 11 and 7, between 100 and 3000 (both included). (Hint: use a for loop and an if statement.)"
      ],
      "metadata": {
        "id": "heDrK7m5MGu_"
      }
    },
    {
      "cell_type": "code",
      "source": [
        "def divisibleBy(starting, ending):\n",
        "  numbers = []\n",
        "  for i in range(starting, ending+1):\n",
        "    if (i % 7 == 0) & (i % 11 == 0):\n",
        "      numbers.append(i)\n",
        "  return numbers\n",
        "\n",
        "divisibleBy(100, 3000)"
      ],
      "metadata": {
        "id": "BNyta0nUMJIg"
      },
      "execution_count": null,
      "outputs": []
    },
    {
      "cell_type": "markdown",
      "source": [
        "### 10. Use a while loop and an if statement to define a function named 'fruit_namer' which appends all the elements in a list to a new list unless the element is an empty string: \"\". l = [\"Apple\", \"Banana\", \"Orange\", \"Pear\", \"\", \"Grape\", \"\", \"Blackberry\", \"Papaya\"]"
      ],
      "metadata": {
        "id": "E_A4-mVbOr37"
      }
    },
    {
      "cell_type": "code",
      "source": [
        "l = [\"Apple\", \"Banana\", \"Orange\", \"Pear\", \"\", \"Grape\", \"\", \"Blackberry\", \"Papaya\"]\n",
        "\n",
        "def fruit_namer(list):\n",
        "  new_list = []\n",
        "  i = 0\n",
        "  length = len(list)\n",
        "\n",
        "  while i < length:\n",
        "    if list[i] != \"\":\n",
        "      new_list.append(list[i])\n",
        "      i = i + 1\n",
        "    else:\n",
        "      i = i + 1\n",
        "\n",
        "  return new_list\n",
        "\n",
        "fruit_namer(l)"
      ],
      "metadata": {
        "id": "DHd_jYp6OxgH",
        "outputId": "c9fd8e5e-6d81-4065-9208-8da1e87679d2",
        "colab": {
          "base_uri": "https://localhost:8080/"
        }
      },
      "execution_count": null,
      "outputs": [
        {
          "output_type": "execute_result",
          "data": {
            "text/plain": [
              "['Apple', 'Banana', 'Orange', 'Pear', 'Grape', 'Blackberry', 'Papaya']"
            ]
          },
          "metadata": {},
          "execution_count": 1
        }
      ]
    }
  ]
}